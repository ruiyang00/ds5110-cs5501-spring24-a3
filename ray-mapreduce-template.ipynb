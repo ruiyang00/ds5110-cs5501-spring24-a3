{
 "cells": [
  {
   "cell_type": "code",
   "execution_count": 22,
   "id": "5ace36f5-a505-4b52-a0b7-2fbd471fb8fc",
   "metadata": {},
   "outputs": [],
   "source": [
    "\"\"\"\n",
    "This is a skeleton of Assignment 3 for DS5110/CS5501 Spring 2024 (UVA).\n",
    "NOTE you will need to change the .ipynb file name by following the naming convention.\n",
    "Code should be commented well. \n",
    "Feel free to import any missing packages or add extra cells as you see fit. \n",
    "\"\"\"\n",
    "from collections import Counter\n",
    "import socket\n",
    "import time\n",
    "import ray\n",
    "import requests\n",
    "import os"
   ]
  },
  {
   "cell_type": "code",
   "execution_count": null,
   "id": "f4c213e2-0a55-4078-9ae0-83eada1dbd4a",
   "metadata": {},
   "outputs": [],
   "source": [
    "#TODO: fill out the public IP address of your Ray head node (vm1).\n",
    "addr = \"ray://<Public_IP_of_VM1>:10001\"\n",
    "ray.init(address=addr)"
   ]
  },
  {
   "cell_type": "code",
   "execution_count": 27,
   "id": "d8c3b2a0-5a8e-43ae-a487-7cde2d5dbb1a",
   "metadata": {},
   "outputs": [],
   "source": [
    "# You should have a mr-txt folder after you run the script. \n",
    "# Go ahead read the files into list\n",
    "corpus = []\n",
    "for file_name in os.listdir('mr-txt'):\n",
    "    file_path = os.path.join('mr-txt', file_name)\n",
    "    f_txt = open(file_path,'r')\n",
    "    corpus.extend(f_txt.read().split())"
   ]
  },
  {
   "cell_type": "code",
   "execution_count": null,
   "id": "d3e3ce27-43c2-4ee6-9687-b0055148be5d",
   "metadata": {},
   "outputs": [],
   "source": [
    "# You should have a mr-txt folder after you run the script. \n",
    "# Go ahead read the files into list\n",
    "num_partitions = 3\n",
    "chunk = len(corpus) // num_partitions\n",
    "partitions = [\n",
    "    corpus[i * chunk: (i + 1) * chunk] for i in range(num_partitions)\n",
    "]"
   ]
  },
  {
   "cell_type": "code",
   "execution_count": null,
   "id": "1962e517-971b-4c57-9e9d-1f47b97facf2",
   "metadata": {},
   "outputs": [],
   "source": [
    "#Task 1: implement Map function\n",
    "def map_function(document):\n",
    "    \"\"\"\n",
    "    Converts a document into a list of key-value pairs, where each word is a key, and the value is set to 1.\n",
    "    Steps:\n",
    "        1. Create an empty list named kvs to store key-value pairs.\n",
    "        2. Iterate through each word in the document and create a tuple (word, 1) and append it to the kvs list.\n",
    "        3. After processing all words, return the kvs list as the result.\n",
    "\n",
    "    Parameters:\n",
    "    - document (list): List of words representing a document.\n",
    "\n",
    "    Returns:\n",
    "    - list: A list of key-value pairs generated from the input document.\n",
    "    \"\"\"\n",
    "\n",
    "    #TODO: start your implementation below this line\n",
    "\n",
    "    return kvs"
   ]
  },
  {
   "cell_type": "code",
   "execution_count": null,
   "id": "24598561-2e2f-480a-aa74-9d909b308615",
   "metadata": {},
   "outputs": [],
   "source": [
    "#Task 2: implement Map worker\n",
    "@ray.remote(scheduling_strategy=\"SPREAD\")\n",
    "def do_map(corpus, num_partitions=3):\n",
    "    \"\"\"\n",
    "    Applies a mapping operation on the given 'corpus' to partition it into 'num_partitions'.\n",
    "    Steps:\n",
    "    1. initialize an empty list named map_results with a length equal to the num_partitions.\n",
    "    2. Call the map_function on the corpus to generate a list of key-value pairs.\n",
    "    3. iterate through each entry in key-value pair list and calculate the partition \n",
    "        index using the hash(key) the modulo operation with num_partitions to decide which reducer this key-value pair should go to.\n",
    "    4. return the list of partitions. \n",
    "\n",
    "    Parameters:\n",
    "    - corpus (list): The input data to be mapped.\n",
    "    - num_partitions (int): The number of partitions to divide the 'corpus' into (default is 3).\n",
    "\n",
    "    Returns:\n",
    "    - list: A list containing the mapped partitions of the 'corpus'.\n",
    "    \"\"\"\n",
    "\n",
    "    #TODO: start your implementation below this line\n",
    "        \n",
    "    return map_results"
   ]
  },
  {
   "cell_type": "code",
   "execution_count": null,
   "id": "3b510268-063a-447f-8887-f0436259e001",
   "metadata": {},
   "outputs": [],
   "source": [
    "#Task 3: implement reduce function\n",
    "def reduce_function(key, kvs):\n",
    "    # TODO: Start your implementation below this line\n",
    "    return len(kvs[key])"
   ]
  },
  {
   "cell_type": "code",
   "execution_count": null,
   "id": "e5e7087b-dcd6-4f9e-a3fc-fb14c670406d",
   "metadata": {},
   "outputs": [],
   "source": [
    "#Task 4: implement Reduce worker\n",
    "@ray.remote(scheduling_strategy=\"SPREAD\")\n",
    "def do_reduce(*my_partition_list):\n",
    "    \"\"\"\n",
    "    Performs a reduce operation on a list of key-value pair partitions.\n",
    "\n",
    "    Parameters:\n",
    "    - *my_partition_list: Variable-length list of partitions containing key-value pairs.\n",
    "\n",
    "    Returns:\n",
    "    - Any: The result of the reduce operation.\n",
    "    \"\"\"\n",
    "    \n",
    "    #TODO: start your implementation below this line\n",
    "                \n",
    "    return res"
   ]
  },
  {
   "cell_type": "code",
   "execution_count": null,
   "id": "ab8f6093-fd9b-4be0-9533-4483b5a95eff",
   "metadata": {},
   "outputs": [],
   "source": [
    "#Task 5: Call this cell after you finish previous tasks.\n",
    "map_results = [\n",
    "    do_map.options(num_returns=num_partitions)\n",
    "    .remote(data, num_partitions)\n",
    "    for data in partitions\n",
    "]"
   ]
  },
  {
   "cell_type": "code",
   "execution_count": null,
   "id": "b9ae74ef-74a7-4826-a098-1af627c4e797",
   "metadata": {},
   "outputs": [],
   "source": [
    "#Task 6: Call this cell after you finish previous tasks.\n",
    "merged_res = []\n",
    "for i in range(num_partitions):\n",
    "    merged_res.append(\n",
    "        do_reduce.remote(*[partition[i] for partition in map_results])\n",
    "    )"
   ]
  },
  {
   "cell_type": "code",
   "execution_count": null,
   "id": "3d863fc0-8c44-42e8-b85f-de0d978ec66e",
   "metadata": {},
   "outputs": [],
   "source": [
    "#Task 5: Call this cell after you finish previous tasks.\n",
    "counts = dict()\n",
    "for res in ray.get(merged_res):\n",
    "    for key, val in res.items():\n",
    "        counts[key] =val\n",
    "        \n",
    "counts_descending = sorted(counts.items(), key=lambda item: item[1], reverse=True)"
   ]
  },
  {
   "cell_type": "code",
   "execution_count": null,
   "id": "22d03da8-2fa5-4b91-a6de-82a4418236c1",
   "metadata": {},
   "outputs": [],
   "source": [
    "print(counts_descending[:100])"
   ]
  },
  {
   "cell_type": "code",
   "execution_count": null,
   "id": "7a595e80-4265-49cd-8cac-3a6ef502241d",
   "metadata": {},
   "outputs": [],
   "source": [
    "#Diconnect Ray cluster.\n",
    "ray.shutdown()"
   ]
  },
  {
   "cell_type": "code",
   "execution_count": null,
   "id": "28a2302c-3a46-4260-9403-6b34b4eaf671",
   "metadata": {},
   "outputs": [],
   "source": []
  }
 ],
 "metadata": {
  "kernelspec": {
   "display_name": "Python 3 (ipykernel)",
   "language": "python",
   "name": "python3"
  },
  "language_info": {
   "codemirror_mode": {
    "name": "ipython",
    "version": 3
   },
   "file_extension": ".py",
   "mimetype": "text/x-python",
   "name": "python",
   "nbconvert_exporter": "python",
   "pygments_lexer": "ipython3",
   "version": "3.10.12"
  }
 },
 "nbformat": 4,
 "nbformat_minor": 5
}
